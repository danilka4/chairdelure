{
 "nbformat": 4,
 "nbformat_minor": 0,
 "metadata": {
  "colab": {
   "provenance": []
  },
  "kernelspec": {
   "name": "python3",
   "display_name": "Python 3"
  },
  "language_info": {
   "name": "python"
  }
 },
 "cells": [
  {
   "cell_type": "code",
   "execution_count": 3,
   "metadata": {
    "id": "NT8w3nof8UTP"
   },
   "outputs": [],
   "source": [
    "def molly(input):\n",
    "    return f\"{input}. So true bestie\"\n",
    "\n",
    "\n",
    "def daniel(input):\n",
    "    return f\"{input}, according to marxist theory\"\n",
    "\n",
    "\n",
    "def chris(input):\n",
    "    return f\"{input}!!\\n\" * 3"
   ]
  },
  {
   "cell_type": "code",
   "source": [
    "from google.colab.output import eval_js\n",
    "\n",
    "print(eval_js(\"google.colab.kernel.proxyPort(5000)\"))\n",
    "!python -m http.server 5000"
   ],
   "metadata": {
    "colab": {
     "base_uri": "https://localhost:8080/",
     "height": 106
    },
    "id": "hGsxKTZ08-tu",
    "outputId": "4751fd89-9b31-4fde-f1c3-f109b1eec153"
   },
   "execution_count": 2,
   "outputs": [
    {
     "output_type": "stream",
     "name": "stdout",
     "text": [
      "https://5qh6lsammk3-496ff2e9c6d22116-5000-colab.googleusercontent.com/\n",
      "Serving HTTP on 0.0.0.0 port 5000 (http://0.0.0.0:5000/) ...\n",
      "\n",
      "Keyboard interrupt received, exiting.\n",
      "^C\n"
     ]
    }
   ]
  },
  {
   "cell_type": "code",
   "source": [
    "import flask\n",
    "\n",
    "app = flask.Flask(__name__)\n",
    "\n",
    "# Run input on model\n",
    "\n",
    "\n",
    "@app.route(\"/model\", methods=[\"POST\"])\n",
    "def model():\n",
    "    try:\n",
    "        # Get form data\n",
    "        selected_model = flask.request.form.get(\"model\")\n",
    "        text = flask.request.form.get(\"text\")\n",
    "\n",
    "        # Run model\n",
    "        if selected_model == \"molly\":\n",
    "            output = molly(text)\n",
    "        elif selected_model == \"daniel\":\n",
    "            output = daniel(text)\n",
    "        elif selected_model == \"chris\":\n",
    "            output = chris(text)\n",
    "        else:\n",
    "            output = \"Error: Invalid model\"\n",
    "        # Return output as JSON\n",
    "        return flask.jsonify({\"output\": output})\n",
    "\n",
    "    except Exception as e:\n",
    "        return flask.jsonify({\"error\": str(e)})\n",
    "\n",
    "\n",
    "# Show about page\n",
    "\n",
    "\n",
    "@app.route(\"/about\")\n",
    "def about():\n",
    "    return flask.render_template(\"about.html\")\n",
    "\n",
    "\n",
    "@app.route(\"/\")\n",
    "def hello():\n",
    "    return flask.render_template(\"index.html\")\n",
    "\n",
    "\n",
    "print(\"App will be at\")\n",
    "print(eval_js(\"google.colab.kernel.proxyPort(5000)\"))\n",
    "app.run()"
   ],
   "metadata": {
    "colab": {
     "base_uri": "https://localhost:8080/",
     "height": 321
    },
    "id": "p6PNghbq9UhS",
    "outputId": "1de2954b-aa39-4dbd-cb99-6df77c92f492"
   },
   "execution_count": 17,
   "outputs": [
    {
     "output_type": "stream",
     "name": "stdout",
     "text": [
      "App will be at\n",
      "https://5qh6lsammk3-496ff2e9c6d22116-5000-colab.googleusercontent.com/\n",
      " * Serving Flask app '__main__'\n",
      " * Debug mode: off\n"
     ]
    },
    {
     "output_type": "stream",
     "name": "stderr",
     "text": [
      "INFO:werkzeug:\u001b[31m\u001b[1mWARNING: This is a development server. Do not use it in a production deployment. Use a production WSGI server instead.\u001b[0m\n",
      " * Running on http://127.0.0.1:5000\n",
      "INFO:werkzeug:\u001b[33mPress CTRL+C to quit\u001b[0m\n",
      "INFO:werkzeug:127.0.0.1 - - [18/Apr/2023 01:25:01] \"GET / HTTP/1.1\" 200 -\n",
      "INFO:werkzeug:127.0.0.1 - - [18/Apr/2023 01:25:01] \"\u001b[33mGET /favicon.ico HTTP/1.1\u001b[0m\" 404 -\n",
      "INFO:werkzeug:127.0.0.1 - - [18/Apr/2023 01:25:09] \"POST /model HTTP/1.1\" 200 -\n",
      "INFO:werkzeug:127.0.0.1 - - [18/Apr/2023 01:25:11] \"GET /about HTTP/1.1\" 200 -\n",
      "INFO:werkzeug:127.0.0.1 - - [18/Apr/2023 01:25:12] \"\u001b[33mGET /favicon.ico HTTP/1.1\u001b[0m\" 404 -\n",
      "INFO:werkzeug:127.0.0.1 - - [18/Apr/2023 01:25:23] \"GET / HTTP/1.1\" 200 -\n",
      "INFO:werkzeug:127.0.0.1 - - [18/Apr/2023 01:25:24] \"\u001b[33mGET /favicon.ico HTTP/1.1\u001b[0m\" 404 -\n",
      "INFO:werkzeug:127.0.0.1 - - [18/Apr/2023 01:25:31] \"POST /model HTTP/1.1\" 200 -\n",
      "INFO:werkzeug:127.0.0.1 - - [18/Apr/2023 01:25:41] \"POST /model HTTP/1.1\" 200 -\n",
      "INFO:werkzeug:127.0.0.1 - - [18/Apr/2023 01:25:57] \"POST /model HTTP/1.1\" 200 -\n"
     ]
    }
   ]
  },
  {
   "cell_type": "code",
   "source": [
    "import flask\n",
    "\n",
    "app = flask.Flask(__name__)\n",
    "\n",
    "\n",
    "@app.route(\"/\")\n",
    "def hello():\n",
    "    return flask.render_template(\"about.html\")\n",
    "\n",
    "\n",
    "if __name__ == \"__main__\":\n",
    "    app.run()"
   ],
   "metadata": {
    "colab": {
     "base_uri": "https://localhost:8080/"
    },
    "id": "SZ53ZSPhJepd",
    "outputId": "92dbfd86-1dda-4fe3-ba0b-7b03abe1286c"
   },
   "execution_count": 8,
   "outputs": [
    {
     "output_type": "stream",
     "name": "stdout",
     "text": [
      " * Serving Flask app '__main__'\n",
      " * Debug mode: off\n"
     ]
    },
    {
     "output_type": "stream",
     "name": "stderr",
     "text": [
      "INFO:werkzeug:\u001b[31m\u001b[1mWARNING: This is a development server. Do not use it in a production deployment. Use a production WSGI server instead.\u001b[0m\n",
      " * Running on http://127.0.0.1:5000\n",
      "INFO:werkzeug:\u001b[33mPress CTRL+C to quit\u001b[0m\n",
      "INFO:werkzeug:127.0.0.1 - - [18/Apr/2023 01:20:23] \"GET / HTTP/1.1\" 200 -\n",
      "INFO:werkzeug:127.0.0.1 - - [18/Apr/2023 01:20:23] \"\u001b[33mGET /favicon.ico HTTP/1.1\u001b[0m\" 404 -\n",
      "INFO:werkzeug:127.0.0.1 - - [18/Apr/2023 01:20:25] \"\u001b[33mGET /about HTTP/1.1\u001b[0m\" 404 -\n",
      "INFO:werkzeug:127.0.0.1 - - [18/Apr/2023 01:20:29] \"\u001b[33mGET /about HTTP/1.1\u001b[0m\" 404 -\n",
      "INFO:werkzeug:127.0.0.1 - - [18/Apr/2023 01:20:30] \"\u001b[33mGET /about HTTP/1.1\u001b[0m\" 404 -\n",
      "INFO:werkzeug:127.0.0.1 - - [18/Apr/2023 01:20:32] \"GET / HTTP/1.1\" 200 -\n",
      "INFO:werkzeug:127.0.0.1 - - [18/Apr/2023 01:20:33] \"\u001b[33mGET /favicon.ico HTTP/1.1\u001b[0m\" 404 -\n"
     ]
    }
   ]
  },
  {
   "cell_type": "code",
   "source": [
    "!pip install discord\n",
    "import os\n",
    "from re import split\n",
    "\n",
    "import discord\n",
    "import nest_asyncio\n",
    "from discord.ext import commands\n",
    "\n",
    "nest_asyncio.apply()\n",
    "\n",
    "\n",
    "class Commands(commands.Cog):\n",
    "    def __init__(self, bot):\n",
    "        self.bot = bot\n",
    "\n",
    "    @commands.command()\n",
    "    async def ping(self, ctx):\n",
    "        \"\"\"Returns bot latency to client\"\"\"\n",
    "        return await ctx.send(\n",
    "            f\"Pong! Latency: {self.bot.ws.latency * 1000:.4f}ms\"\n",
    "        )\n",
    "\n",
    "    @commands.command()\n",
    "    async def molly(self, ctx, *, message: str):\n",
    "        output = molly(message)\n",
    "        await ctx.send(output)\n",
    "\n",
    "    @commands.command()\n",
    "    async def daniel(self, ctx, *, message: str):\n",
    "        output = daniel(message)\n",
    "        await ctx.send(output)\n",
    "\n",
    "    @commands.command()\n",
    "    async def chris(self, ctx, *, message: str):\n",
    "        output = chris(message)\n",
    "        await ctx.send(output)\n",
    "\n",
    "\n",
    "async def setup(bot):\n",
    "    await bot.add_cog(Commands(bot))\n",
    "\n",
    "\n",
    "class DiscordGPT(commands.Bot):\n",
    "    def __init__(self):\n",
    "        \"\"\"Sets permissions and initializes bot object\"\"\"\n",
    "        intents = discord.Intents.all()\n",
    "        super().__init__(command_prefix=\"*\", intents=intents)\n",
    "\n",
    "    async def load_extensions(self):\n",
    "        \"\"\"Loads commands (called cogs or extensions)\"\"\"\n",
    "        await self.add_cog(Commands(self))\n",
    "        print(\"Successfully loaded commands.\")\n",
    "\n",
    "    async def on_connect(self):\n",
    "        await self.load_extensions()\n",
    "\n",
    "    async def on_ready(self):\n",
    "        \"\"\"Bot startup\"\"\"\n",
    "        print(f\"{self.user.name} has connected to Discord!\")\n",
    "\n",
    "    async def on_command_error(self, ctx, error):\n",
    "        \"\"\"Sends error message if caught, else raise error to terminal\"\"\"\n",
    "        if isinstance(error, commands.CommandNotFound):\n",
    "            return await ctx.send(\n",
    "                f\"Command not found: `{split(r'[ *]+', ctx.message.content)[1]}`\"\n",
    "            )\n",
    "        raise error\n",
    "\n",
    "\n",
    "def main():\n",
    "    # Pulls bot token from environment\n",
    "    TOKEN = \"MTA4NzQ0Mjk4OTkwMDYyODA3MA.G9COYk.lAy8tZu2OUeZZX3_3U2D-m2Nk4yOS_DnQxfnnw\"\n",
    "\n",
    "    bot = DiscordGPT()\n",
    "    # Spins up bot instance\n",
    "    bot.run(TOKEN)\n",
    "\n",
    "\n",
    "main()"
   ],
   "metadata": {
    "colab": {
     "base_uri": "https://localhost:8080/"
    },
    "id": "a8I4rUYI9bAG",
    "outputId": "d2771f0d-61ad-4121-c395-d83be22b7464"
   },
   "execution_count": 14,
   "outputs": [
    {
     "output_type": "stream",
     "name": "stdout",
     "text": [
      "Looking in indexes: https://pypi.org/simple, https://us-python.pkg.dev/colab-wheels/public/simple/\n",
      "Collecting discord\n",
      "  Downloading discord-2.2.2-py3-none-any.whl (1.1 kB)\n",
      "Collecting discord.py>=2.2.2\n",
      "  Downloading discord.py-2.2.2-py3-none-any.whl (1.1 MB)\n",
      "\u001b[2K     \u001b[90m━━━━━━━━━━━━━━━━━━━━━━━━━━━━━━━━━━━━━━━━\u001b[0m \u001b[32m1.1/1.1 MB\u001b[0m \u001b[31m14.9 MB/s\u001b[0m eta \u001b[36m0:00:00\u001b[0m\n",
      "\u001b[?25hCollecting aiohttp<4,>=3.7.4\n",
      "  Downloading aiohttp-3.8.4-cp39-cp39-manylinux_2_17_x86_64.manylinux2014_x86_64.whl (1.0 MB)\n",
      "\u001b[2K     \u001b[90m━━━━━━━━━━━━━━━━━━━━━━━━━━━━━━━━━━━━━━━━\u001b[0m \u001b[32m1.0/1.0 MB\u001b[0m \u001b[31m56.5 MB/s\u001b[0m eta \u001b[36m0:00:00\u001b[0m\n",
      "\u001b[?25hCollecting yarl<2.0,>=1.0\n",
      "  Downloading yarl-1.8.2-cp39-cp39-manylinux_2_17_x86_64.manylinux2014_x86_64.whl (264 kB)\n",
      "\u001b[2K     \u001b[90m━━━━━━━━━━━━━━━━━━━━━━━━━━━━━━━━━━━━━━\u001b[0m \u001b[32m264.6/264.6 KB\u001b[0m \u001b[31m25.9 MB/s\u001b[0m eta \u001b[36m0:00:00\u001b[0m\n",
      "\u001b[?25hCollecting multidict<7.0,>=4.5\n",
      "  Downloading multidict-6.0.4-cp39-cp39-manylinux_2_17_x86_64.manylinux2014_x86_64.whl (114 kB)\n",
      "\u001b[2K     \u001b[90m━━━━━━━━━━━━━━━━━━━━━━━━━━━━━━━━━━━━━━\u001b[0m \u001b[32m114.2/114.2 KB\u001b[0m \u001b[31m12.8 MB/s\u001b[0m eta \u001b[36m0:00:00\u001b[0m\n",
      "\u001b[?25hRequirement already satisfied: attrs>=17.3.0 in /usr/local/lib/python3.9/dist-packages (from aiohttp<4,>=3.7.4->discord.py>=2.2.2->discord) (22.2.0)\n",
      "Collecting aiosignal>=1.1.2\n",
      "  Downloading aiosignal-1.3.1-py3-none-any.whl (7.6 kB)\n",
      "Requirement already satisfied: charset-normalizer<4.0,>=2.0 in /usr/local/lib/python3.9/dist-packages (from aiohttp<4,>=3.7.4->discord.py>=2.2.2->discord) (2.0.12)\n",
      "Collecting frozenlist>=1.1.1\n",
      "  Downloading frozenlist-1.3.3-cp39-cp39-manylinux_2_5_x86_64.manylinux1_x86_64.manylinux_2_17_x86_64.manylinux2014_x86_64.whl (158 kB)\n",
      "\u001b[2K     \u001b[90m━━━━━━━━━━━━━━━━━━━━━━━━━━━━━━━━━━━━━━\u001b[0m \u001b[32m158.8/158.8 KB\u001b[0m \u001b[31m16.7 MB/s\u001b[0m eta \u001b[36m0:00:00\u001b[0m\n",
      "\u001b[?25hCollecting async-timeout<5.0,>=4.0.0a3\n",
      "  Downloading async_timeout-4.0.2-py3-none-any.whl (5.8 kB)\n",
      "Requirement already satisfied: idna>=2.0 in /usr/local/lib/python3.9/dist-packages (from yarl<2.0,>=1.0->aiohttp<4,>=3.7.4->discord.py>=2.2.2->discord) (3.4)\n",
      "Installing collected packages: multidict, frozenlist, async-timeout, yarl, aiosignal, aiohttp, discord.py, discord\n",
      "Successfully installed aiohttp-3.8.4 aiosignal-1.3.1 async-timeout-4.0.2 discord-2.2.2 discord.py-2.2.2 frozenlist-1.3.3 multidict-6.0.4 yarl-1.8.2\n"
     ]
    },
    {
     "output_type": "stream",
     "name": "stderr",
     "text": [
      "WARNING:discord.client:PyNaCl is not installed, voice will NOT be supported\n",
      "\u001b[30;1m2023-04-18 01:22:45\u001b[0m \u001b[34;1mINFO    \u001b[0m \u001b[35mdiscord.client\u001b[0m logging in using static token\n",
      "INFO:discord.client:logging in using static token\n",
      "\u001b[30;1m2023-04-18 01:22:46\u001b[0m \u001b[34;1mINFO    \u001b[0m \u001b[35mdiscord.gateway\u001b[0m Shard ID None has connected to Gateway (Session ID: 5d1987af15922d2a2dbad057d436b05a).\n",
      "INFO:discord.gateway:Shard ID None has connected to Gateway (Session ID: 5d1987af15922d2a2dbad057d436b05a).\n"
     ]
    },
    {
     "output_type": "stream",
     "name": "stdout",
     "text": [
      "Successfully loaded commands.\n",
      "DCGPT has connected to Discord!\n"
     ]
    }
   ]
  },
  {
   "cell_type": "code",
   "source": [],
   "metadata": {
    "id": "Yj5zlL0R_mwN"
   },
   "execution_count": null,
   "outputs": []
  }
 ]
}