{
 "cells": [
  {
   "attachments": {},
   "cell_type": "markdown",
   "metadata": {},
   "source": [
    "# Markovify\n",
    "\n",
    "This code is for training and testing the markov chain model for word recommendation"
   ]
  },
  {
   "cell_type": "code",
   "execution_count": 1,
   "metadata": {},
   "outputs": [
    {
     "name": "stderr",
     "output_type": "stream",
     "text": [
      "2023-05-01 21:47:50.897016: I tensorflow/core/platform/cpu_feature_guard.cc:182] This TensorFlow binary is optimized to use available CPU instructions in performance-critical operations.\n",
      "To enable the following instructions: AVX2 AVX512F AVX512_VNNI FMA, in other operations, rebuild TensorFlow with the appropriate compiler flags.\n"
     ]
    },
    {
     "name": "stdout",
     "output_type": "stream",
     "text": [
      "Collecting en-core-web-sm==3.5.0\n",
      "  Downloading https://github.com/explosion/spacy-models/releases/download/en_core_web_sm-3.5.0/en_core_web_sm-3.5.0-py3-none-any.whl (12.8 MB)\n",
      "\u001b[2K     \u001b[91m━━━━━━━━━━━━\u001b[0m\u001b[91m╸\u001b[0m\u001b[90m━━━━━━━━━━━━━━━━━━━━━━━━━━━\u001b[0m \u001b[32m4.2/12.8 MB\u001b[0m \u001b[31m57.5 kB/s\u001b[0m eta \u001b[36m0:02:31\u001b[0mm\n",
      "\u001b[?25h\u001b[31mERROR: Exception:\n",
      "Traceback (most recent call last):\n",
      "  File \"/Users/chrisbonner/Documents/vt/chairdelure/.env/lib/python3.10/site-packages/pip/_vendor/urllib3/response.py\", line 438, in _error_catcher\n",
      "    yield\n",
      "  File \"/Users/chrisbonner/Documents/vt/chairdelure/.env/lib/python3.10/site-packages/pip/_vendor/urllib3/response.py\", line 561, in read\n",
      "    data = self._fp_read(amt) if not fp_closed else b\"\"\n",
      "  File \"/Users/chrisbonner/Documents/vt/chairdelure/.env/lib/python3.10/site-packages/pip/_vendor/urllib3/response.py\", line 527, in _fp_read\n",
      "    return self._fp.read(amt) if amt is not None else self._fp.read()\n",
      "  File \"/Users/chrisbonner/Documents/vt/chairdelure/.env/lib/python3.10/site-packages/pip/_vendor/cachecontrol/filewrapper.py\", line 90, in read\n",
      "    data = self.__fp.read(amt)\n",
      "  File \"/Library/Frameworks/Python.framework/Versions/3.10/lib/python3.10/http/client.py\", line 465, in read\n",
      "    s = self.fp.read(amt)\n",
      "  File \"/Library/Frameworks/Python.framework/Versions/3.10/lib/python3.10/socket.py\", line 705, in readinto\n",
      "    return self._sock.recv_into(b)\n",
      "  File \"/Library/Frameworks/Python.framework/Versions/3.10/lib/python3.10/ssl.py\", line 1274, in recv_into\n",
      "    return self.read(nbytes, buffer)\n",
      "  File \"/Library/Frameworks/Python.framework/Versions/3.10/lib/python3.10/ssl.py\", line 1130, in read\n",
      "    return self._sslobj.read(len, buffer)\n",
      "TimeoutError: The read operation timed out\n",
      "\n",
      "During handling of the above exception, another exception occurred:\n",
      "\n",
      "Traceback (most recent call last):\n",
      "  File \"/Users/chrisbonner/Documents/vt/chairdelure/.env/lib/python3.10/site-packages/pip/_internal/cli/base_command.py\", line 169, in exc_logging_wrapper\n",
      "    status = run_func(*args)\n",
      "  File \"/Users/chrisbonner/Documents/vt/chairdelure/.env/lib/python3.10/site-packages/pip/_internal/cli/req_command.py\", line 248, in wrapper\n",
      "    return func(self, options, args)\n",
      "  File \"/Users/chrisbonner/Documents/vt/chairdelure/.env/lib/python3.10/site-packages/pip/_internal/commands/install.py\", line 377, in run\n",
      "    requirement_set = resolver.resolve(\n",
      "  File \"/Users/chrisbonner/Documents/vt/chairdelure/.env/lib/python3.10/site-packages/pip/_internal/resolution/resolvelib/resolver.py\", line 73, in resolve\n",
      "    collected = self.factory.collect_root_requirements(root_reqs)\n",
      "  File \"/Users/chrisbonner/Documents/vt/chairdelure/.env/lib/python3.10/site-packages/pip/_internal/resolution/resolvelib/factory.py\", line 491, in collect_root_requirements\n",
      "    req = self._make_requirement_from_install_req(\n",
      "  File \"/Users/chrisbonner/Documents/vt/chairdelure/.env/lib/python3.10/site-packages/pip/_internal/resolution/resolvelib/factory.py\", line 453, in _make_requirement_from_install_req\n",
      "    cand = self._make_candidate_from_link(\n",
      "  File \"/Users/chrisbonner/Documents/vt/chairdelure/.env/lib/python3.10/site-packages/pip/_internal/resolution/resolvelib/factory.py\", line 206, in _make_candidate_from_link\n",
      "    self._link_candidate_cache[link] = LinkCandidate(\n",
      "  File \"/Users/chrisbonner/Documents/vt/chairdelure/.env/lib/python3.10/site-packages/pip/_internal/resolution/resolvelib/candidates.py\", line 293, in __init__\n",
      "    super().__init__(\n",
      "  File \"/Users/chrisbonner/Documents/vt/chairdelure/.env/lib/python3.10/site-packages/pip/_internal/resolution/resolvelib/candidates.py\", line 156, in __init__\n",
      "    self.dist = self._prepare()\n",
      "  File \"/Users/chrisbonner/Documents/vt/chairdelure/.env/lib/python3.10/site-packages/pip/_internal/resolution/resolvelib/candidates.py\", line 225, in _prepare\n",
      "    dist = self._prepare_distribution()\n",
      "  File \"/Users/chrisbonner/Documents/vt/chairdelure/.env/lib/python3.10/site-packages/pip/_internal/resolution/resolvelib/candidates.py\", line 304, in _prepare_distribution\n",
      "    return preparer.prepare_linked_requirement(self._ireq, parallel_builds=True)\n",
      "  File \"/Users/chrisbonner/Documents/vt/chairdelure/.env/lib/python3.10/site-packages/pip/_internal/operations/prepare.py\", line 516, in prepare_linked_requirement\n",
      "    return self._prepare_linked_requirement(req, parallel_builds)\n",
      "  File \"/Users/chrisbonner/Documents/vt/chairdelure/.env/lib/python3.10/site-packages/pip/_internal/operations/prepare.py\", line 587, in _prepare_linked_requirement\n",
      "    local_file = unpack_url(\n",
      "  File \"/Users/chrisbonner/Documents/vt/chairdelure/.env/lib/python3.10/site-packages/pip/_internal/operations/prepare.py\", line 166, in unpack_url\n",
      "    file = get_http_url(\n",
      "  File \"/Users/chrisbonner/Documents/vt/chairdelure/.env/lib/python3.10/site-packages/pip/_internal/operations/prepare.py\", line 107, in get_http_url\n",
      "    from_path, content_type = download(link, temp_dir.path)\n",
      "  File \"/Users/chrisbonner/Documents/vt/chairdelure/.env/lib/python3.10/site-packages/pip/_internal/network/download.py\", line 147, in __call__\n",
      "    for chunk in chunks:\n",
      "  File \"/Users/chrisbonner/Documents/vt/chairdelure/.env/lib/python3.10/site-packages/pip/_internal/cli/progress_bars.py\", line 53, in _rich_progress_bar\n",
      "    for chunk in iterable:\n",
      "  File \"/Users/chrisbonner/Documents/vt/chairdelure/.env/lib/python3.10/site-packages/pip/_internal/network/utils.py\", line 63, in response_chunks\n",
      "    for chunk in response.raw.stream(\n",
      "  File \"/Users/chrisbonner/Documents/vt/chairdelure/.env/lib/python3.10/site-packages/pip/_vendor/urllib3/response.py\", line 622, in stream\n",
      "    data = self.read(amt=amt, decode_content=decode_content)\n",
      "  File \"/Users/chrisbonner/Documents/vt/chairdelure/.env/lib/python3.10/site-packages/pip/_vendor/urllib3/response.py\", line 560, in read\n",
      "    with self._error_catcher():\n",
      "  File \"/Library/Frameworks/Python.framework/Versions/3.10/lib/python3.10/contextlib.py\", line 153, in __exit__\n",
      "    self.gen.throw(typ, value, traceback)\n",
      "  File \"/Users/chrisbonner/Documents/vt/chairdelure/.env/lib/python3.10/site-packages/pip/_vendor/urllib3/response.py\", line 443, in _error_catcher\n",
      "    raise ReadTimeoutError(self._pool, None, \"Read timed out.\")\n",
      "pip._vendor.urllib3.exceptions.ReadTimeoutError: HTTPSConnectionPool(host='objects.githubusercontent.com', port=443): Read timed out.\u001b[0m\u001b[31m\n",
      "\u001b[0m"
     ]
    }
   ],
   "source": [
    "import random\n",
    "import re\n",
    "\n",
    "import markovify\n",
    "import spacy\n",
    "\n",
    "!python -m spacy download en_core_web_sm"
   ]
  },
  {
   "attachments": {},
   "cell_type": "markdown",
   "metadata": {},
   "source": [
    "Training the markov model based on our training dataset"
   ]
  },
  {
   "cell_type": "code",
   "execution_count": 2,
   "metadata": {},
   "outputs": [],
   "source": [
    "file_name = \"output\"\n",
    "\n",
    "with open(f\"../data/{file_name}_train.txt\") as f:\n",
    "    text = f.read()\n",
    "\n",
    "with open(f\"../data/{file_name}_test.txt\") as f:\n",
    "    test_text = f.read().split(\"\\n\")\n",
    "\n",
    "training_model = markovify.NewlineText(text, state_size=3)"
   ]
  },
  {
   "attachments": {},
   "cell_type": "markdown",
   "metadata": {},
   "source": [
    "Testing the initial markov model for correct prediction"
   ]
  },
  {
   "cell_type": "code",
   "execution_count": 3,
   "metadata": {},
   "outputs": [
    {
     "name": "stdout",
     "output_type": "stream",
     "text": [
      "Correct: 0.0206\n",
      "Completed runs: 0.1612\n",
      "Invalid runs: 0.8182\n"
     ]
    }
   ],
   "source": [
    "correct = 0.0\n",
    "total_runs = 5000\n",
    "completed_runs = 0\n",
    "\n",
    "for i in range(total_runs):\n",
    "    rand = random.randint(0, len(test_text) - 180)\n",
    "    test_sentence = test_text[rand].split()\n",
    "    start_words = \" \".join(test_sentence[:2])\n",
    "\n",
    "    try:\n",
    "        output = training_model.make_sentence_with_start(\n",
    "            start_words, max_chars=180\n",
    "        )\n",
    "        if output.split()[2] == test_sentence[2]:\n",
    "            correct += 1\n",
    "            # print(f'Test words: {start_words}\\nModel output: {output}')\n",
    "        completed_runs += 1\n",
    "    except:\n",
    "        continue\n",
    "\n",
    "print(f\"Correct: {correct / total_runs}\")\n",
    "print(f\"Completed runs: {(completed_runs - correct) / total_runs}\")\n",
    "print(f\"Invalid runs: {(total_runs - completed_runs) / total_runs}\")"
   ]
  },
  {
   "attachments": {},
   "cell_type": "markdown",
   "metadata": {},
   "source": [
    "Now we'll test spaCy's POS tagging with markovify to see if it improves text predictions."
   ]
  },
  {
   "cell_type": "code",
   "execution_count": 4,
   "metadata": {},
   "outputs": [],
   "source": [
    "nlp = spacy.load(\"en_core_web_sm\")\n",
    "\n",
    "\n",
    "class POSifiedText(markovify.Text):\n",
    "    def word_split(self, sentence):\n",
    "        return [\"::\".join((word.orth_, word.pos_)) for word in nlp(sentence)]\n",
    "\n",
    "    def word_join(self, words):\n",
    "        sentence = \" \".join(word.split(\"::\")[0] for word in words)\n",
    "        return sentence\n",
    "\n",
    "    def sentence_split(self, text):\n",
    "        return re.split(r\"\\s*\\n\\s*\", text)"
   ]
  },
  {
   "cell_type": "code",
   "execution_count": 5,
   "metadata": {},
   "outputs": [],
   "source": [
    "training_model_2 = POSifiedText(text, state_size=3)"
   ]
  },
  {
   "cell_type": "code",
   "execution_count": 6,
   "metadata": {},
   "outputs": [
    {
     "name": "stdout",
     "output_type": "stream",
     "text": [
      "Correct: 0.018\n",
      "Completed runs: 0.173\n",
      "Invalid runs: 0.809\n"
     ]
    }
   ],
   "source": [
    "correct = 0.0\n",
    "completed_runs = 0\n",
    "\n",
    "for i in range(total_runs):\n",
    "    rand = random.randint(0, len(test_text) - 180)\n",
    "    test_sentence = test_text[rand].split()\n",
    "    start_words = \" \".join(test_sentence[:2])\n",
    "\n",
    "    try:\n",
    "        output = training_model_2.make_sentence_with_start(\n",
    "            start_words, max_chars=180\n",
    "        )\n",
    "        if output.split()[2] == test_sentence[2]:\n",
    "            correct += 1\n",
    "            # print(f'Test words: {start_words}\\nModel output: {output}')\n",
    "        completed_runs += 1\n",
    "    except:\n",
    "        continue\n",
    "\n",
    "print(f\"Correct: {correct / total_runs}\")\n",
    "print(f\"Completed runs: {(completed_runs - correct) / total_runs}\")\n",
    "print(f\"Invalid runs: {(total_runs - completed_runs) / total_runs}\")"
   ]
  }
 ],
 "metadata": {
  "kernelspec": {
   "display_name": ".env",
   "language": "python",
   "name": "python3"
  },
  "language_info": {
   "codemirror_mode": {
    "name": "ipython",
    "version": 3
   },
   "file_extension": ".py",
   "mimetype": "text/x-python",
   "name": "python",
   "nbconvert_exporter": "python",
   "pygments_lexer": "ipython3",
   "version": "3.10.10"
  },
  "orig_nbformat": 4
 },
 "nbformat": 4,
 "nbformat_minor": 2
}
